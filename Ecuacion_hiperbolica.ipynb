{
  "nbformat": 4,
  "nbformat_minor": 0,
  "metadata": {
    "colab": {
      "provenance": [],
      "include_colab_link": true
    },
    "kernelspec": {
      "name": "python3",
      "display_name": "Python 3"
    },
    "language_info": {
      "name": "python"
    }
  },
  "cells": [
    {
      "cell_type": "markdown",
      "metadata": {
        "id": "view-in-github",
        "colab_type": "text"
      },
      "source": [
        "<a href=\"https://colab.research.google.com/github/lpaolariosm/Ecuaciones-Diferenciales-Parciales-I/blob/main/Ecuacion_hiperbolica.ipynb\" target=\"_parent\"><img src=\"https://colab.research.google.com/assets/colab-badge.svg\" alt=\"Open In Colab\"/></a>"
      ]
    },
    {
      "cell_type": "markdown",
      "source": [
        "# <span style=\"color:red;\"> \" Ecuación Hiperbólica \"</span>\n",
        "<span style=\"color:blue;\"></span>"
      ],
      "metadata": {
        "id": "DUmvWU3vVQwP"
      }
    },
    {
      "cell_type": "markdown",
      "source": [
        "Dada\n",
        "$$\\xi = -\\left(B + \\sqrt{B^2 - 4AC}\\right)x + 2Ay$$\n",
        "\n",
        "\n",
        "\n",
        "$$\n",
        "\\eta = -\\left(B - \\sqrt{B^2 - 4AC}\\right)x + 2Ay\n",
        "$$\n",
        "\n",
        "Ecuación diferencial:\n",
        "\n",
        "$$\n",
        "U_{xx} - 3U_{xy} - 10 U_{yy}  = 0\n",
        "$$"
      ],
      "metadata": {
        "id": "d5N2QP3iVrHf"
      }
    },
    {
      "cell_type": "markdown",
      "source": [
        "<span style=\"color:blue;\">1) Calcule el indicador y decida que el tipo de una EDP dada.</span>\n",
        "\n"
      ],
      "metadata": {
        "id": "Mg7kbtswYatg"
      }
    },
    {
      "cell_type": "markdown",
      "source": [
        "importamos las librerias"
      ],
      "metadata": {
        "id": "HKl34HpxaHv4"
      }
    },
    {
      "cell_type": "code",
      "execution_count": null,
      "metadata": {
        "id": "2HgjyQTSVLgH"
      },
      "outputs": [],
      "source": [
        "from sympy import symbols"
      ]
    },
    {
      "cell_type": "markdown",
      "source": [
        "definimos la funcion y clasificamos de acuerdo al discriminante"
      ],
      "metadata": {
        "id": "pkOc2fC0bSPH"
      }
    },
    {
      "cell_type": "code",
      "source": [
        "def determinar_tipo_edp():\n",
        "    print(\"1. Cálculo del indicador y tipo de EDP\")\n",
        "    print(\"--------------------------------------\")\n",
        "\n",
        "    # Coeficientes de la EDP\n",
        "    a = 1 # Uxx\n",
        "    b = -3 # Uxy\n",
        "    c = -10 # Uyy\n",
        "\n",
        "    # Cálculo del discriminante\n",
        "    discriminante = b**2 - 4*a*c\n",
        "\n",
        "    print(f\"Coeficientes: a = {a}, b = {b}, c = {c}\")\n",
        "    print(f\"Discriminante Δ = b² - 4ac = ({b})² - 4*{a}*{c} = {discriminante}\")\n",
        "\n",
        "    # Determinar el tipo\n",
        "    if discriminante > 0:\n",
        "        tipo = \"hiperbólica\"\n",
        "    elif discriminante == 0:\n",
        "        tipo = \"parabólica\"\n",
        "    else:\n",
        "        tipo = \"elíptica\"\n",
        "\n",
        "    print(f\"\\nResultado: La EDP es de tipo {tipo}\")\n",
        "\n",
        "    return tipo\n",
        "\n",
        "# Ejecutar Parte 1\n",
        "tipo_edp = determinar_tipo_edp()"
      ],
      "metadata": {
        "colab": {
          "base_uri": "https://localhost:8080/"
        },
        "id": "d4hUDk1Ke5wn",
        "outputId": "28be1a87-e581-4e1b-c3e2-7bdce8f24332"
      },
      "execution_count": null,
      "outputs": [
        {
          "output_type": "stream",
          "name": "stdout",
          "text": [
            "1. Cálculo del indicador y tipo de EDP\n",
            "--------------------------------------\n",
            "Coeficientes: a = 1, b = -3, c = -10\n",
            "Discriminante Δ = b² - 4ac = (-3)² - 4*1*-10 = 49\n",
            "\n",
            "Resultado: La EDP es de tipo hiperbólica\n"
          ]
        }
      ]
    },
    {
      "cell_type": "markdown",
      "source": [
        "<span style=\"color:blue;\">2) De la transformación transformación lineal para llevar a su forma canónica una ecuación hiperbólica.</span>"
      ],
      "metadata": {
        "id": "7ZP9JNiFYqd3"
      }
    },
    {
      "cell_type": "markdown",
      "source": [
        "Encontrar la transformación a forma canónica"
      ],
      "metadata": {
        "id": "o4JAor4hbmdw"
      }
    },
    {
      "cell_type": "code",
      "source": [
        "from sympy import sqrt\n"
      ],
      "metadata": {
        "id": "aOO4z3rZhys_"
      },
      "execution_count": null,
      "outputs": []
    },
    {
      "cell_type": "code",
      "source": [
        "\n",
        "def transformacion_hiperbolica():\n",
        "    print(\"\\n2. Transformación para forma canónica hiperbólica\")\n",
        "    print(\"-----------------------------------------------\")\n",
        "\n",
        "    # Coeficientes\n",
        "    a = 1\n",
        "    b = -3\n",
        "    c = -10\n",
        "\n",
        "    # Raíces características\n",
        "    discriminante = b**2 - 4*a*c\n",
        "    lambda1 = (-b + sqrt(discriminante))/(2*a)\n",
        "    lambda2 = (-b - sqrt(discriminante))/(2*a)\n",
        "\n",
        "    print(f\"Ecuación característica: {a}λ² + {b}λ + {c} = 0\")\n",
        "    print(f\"Raíces características: λ1 = {lambda1}, λ2 = {lambda2}\")\n",
        "\n",
        "    # Transformación\n",
        "    xi = f\"y - {lambda1}*x\"\n",
        "    eta = f\"y - {lambda2}*x\"\n",
        "\n",
        "    print(\"\\nTransformación lineal:\")\n",
        "    print(f\"ξ = {xi}\")\n",
        "    print(f\"η = {eta}\")\n",
        "\n",
        "    return xi, eta\n",
        "\n",
        "# Ejecutar Parte 2 (solo si es hiperbólica)\n",
        "if tipo_edp == \"hiperbólica\":\n",
        "    xi, eta = transformacion_hiperbolica()"
      ],
      "metadata": {
        "colab": {
          "base_uri": "https://localhost:8080/"
        },
        "id": "lsT2uERUY3Lw",
        "outputId": "b867a78e-2d90-497b-a099-68484f5d7b2d"
      },
      "execution_count": null,
      "outputs": [
        {
          "output_type": "stream",
          "name": "stdout",
          "text": [
            "\n",
            "2. Transformación para forma canónica hiperbólica\n",
            "-----------------------------------------------\n",
            "Ecuación característica: 1λ² + -3λ + -10 = 0\n",
            "Raíces características: λ1 = 5, λ2 = -2\n",
            "\n",
            "Transformación lineal:\n",
            "ξ = y - 5*x\n",
            "η = y - -2*x\n"
          ]
        }
      ]
    },
    {
      "cell_type": "markdown",
      "source": [
        "<span style=\"color:blue;\">3) Devuelva la EDP en su forma canónica. </span>\n"
      ],
      "metadata": {
        "id": "HMknnF-WY3mP"
      }
    },
    {
      "cell_type": "code",
      "source": [
        "def forma_canonica_solucion():\n",
        "    print(\"\\n3. Forma canónica y solución general\")\n",
        "    print(\"----------------------------------\")\n",
        "\n",
        "    print(\"Forma canónica para EDP hiperbólica:\")\n",
        "    print(\"U_ξη = 0\")\n",
        "\n",
        "    print(\"\\nSolución general:\")\n",
        "    print(f\"U(x,y) = F({xi}) + G({eta})\")\n",
        "    print(\"\\nDonde F y G son funciones arbitrarias diferenciables\")\n",
        "\n",
        "# Ejecutar Parte 3 (solo si es hiperbólica)\n",
        "if tipo_edp == \"hiperbólica\":\n",
        "    forma_canonica_solucion()"
      ],
      "metadata": {
        "colab": {
          "base_uri": "https://localhost:8080/"
        },
        "id": "oT3AtbDThbxP",
        "outputId": "06a8112c-acaf-487d-e10d-868f3fce86b4"
      },
      "execution_count": null,
      "outputs": [
        {
          "output_type": "stream",
          "name": "stdout",
          "text": [
            "\n",
            "3. Forma canónica y solución general\n",
            "----------------------------------\n",
            "Forma canónica para EDP hiperbólica:\n",
            "U_ξη = 0\n",
            "\n",
            "Solución general:\n",
            "U(x,y) = F(y - 5*x) + G(y - -2*x)\n",
            "\n",
            "Donde F y G son funciones arbitrarias diferenciables\n"
          ]
        }
      ]
    }
  ]
}